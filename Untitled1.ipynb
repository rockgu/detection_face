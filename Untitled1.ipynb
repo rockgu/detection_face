{
 "cells": [
  {
   "cell_type": "code",
   "execution_count": 1,
   "metadata": {},
   "outputs": [],
   "source": [
    "import numpy as np\n",
    "import pandas as pd \n",
    "import matplotlib.pyplot as plt\n",
    "import tensorflow as tf\n",
    "from tensorflow.keras.models import Model\n",
    "from tensorflow.keras import layers\n",
    "from tensorflow.keras import Input\n",
    "from tensorflow.keras.optimizers import Adam\n",
    "import math"
   ]
  },
  {
   "cell_type": "code",
   "execution_count": 2,
   "metadata": {},
   "outputs": [],
   "source": [
    "data = pd.read_csv(\"/home/ubuntu/detection_face/training.csv\") \n",
    "\n",
    "\n",
    "#data.head()\n",
    "\n",
    "df_image =data['Image']\n",
    "left_eye_center_x = data['left_eye_center_x']\n",
    "left_eye_center_y =data['left_eye_center_y']\n",
    "right_eye_center_x =data['right_eye_center_x']\n",
    "right_eye_center_y= data['right_eye_center_y']\n",
    "left_eye_inner_corner_x =data['left_eye_inner_corner_x']\n",
    "left_eye_inner_corner_y =data['left_eye_inner_corner_y']\n",
    "left_eye_outer_corner_x =data['left_eye_outer_corner_x']\n",
    "left_eye_outer_corner_y =data['left_eye_outer_corner_y']\n",
    "right_eye_inner_corner_x =data['right_eye_inner_corner_x']\n",
    "right_eye_inner_corner_y =data['right_eye_inner_corner_y']\n",
    "right_eye_outer_corner_x =data['right_eye_outer_corner_x']\n",
    "right_eye_outer_corner_y =data['right_eye_outer_corner_y']\n",
    "left_eyebrow_inner_end_x =data['left_eyebrow_inner_end_x']\n",
    "left_eyebrow_inner_end_y =data['left_eyebrow_inner_end_y']\n",
    "left_eyebrow_outer_end_x =data['left_eyebrow_outer_end_x']\n",
    "left_eyebrow_outer_end_y =data['left_eyebrow_outer_end_y']\n",
    "right_eyebrow_inner_end_x =data['right_eyebrow_inner_end_x']\n",
    "right_eyebrow_inner_end_y =data['right_eyebrow_inner_end_y']\n",
    "right_eyebrow_outer_end_x =data['right_eyebrow_outer_end_x']\n",
    "right_eyebrow_outer_end_y =data['right_eyebrow_outer_end_y']\n",
    "nose_tip_x = data['nose_tip_x']\n",
    "nose_tip_y = data['nose_tip_y']\n",
    "mouth_left_corner_x =data['mouth_left_corner_x']\n",
    "mouth_left_corner_y =data['mouth_left_corner_y']\n",
    "mouth_right_corner_x =data['mouth_right_corner_x']\n",
    "mouth_right_corner_y =data['mouth_right_corner_y']\n",
    "mouth_center_top_lip_x =data['mouth_center_top_lip_x']\n",
    "mouth_center_top_lip_y= data['mouth_center_top_lip_y']\n",
    "mouth_center_bottom_lip_x =data['mouth_center_bottom_lip_x']\n",
    "mouth_center_bottom_lip_y =data['mouth_center_bottom_lip_y']"
   ]
  },
  {
   "cell_type": "code",
   "execution_count": 3,
   "metadata": {},
   "outputs": [],
   "source": [
    "img_mask_train = np.zeros((7049,96,96,1),dtype = int)\n",
    "img_phase_train = np.zeros((7049,96,96,1),dtype = int)\n",
    "\n",
    "for i in range (len(data)):\n",
    "    \n",
    "    if (math.isnan(left_eye_center_x[i])):\n",
    "        x1 = int(round(np.mean(left_eye_center_x)))\n",
    "    else:\n",
    "        x1 = int(round(left_eye_center_x[i]))\n",
    "    \n",
    "   \n",
    "    if (math.isnan(left_eye_center_y[i])):\n",
    "        y1 = int(round(np.mean(left_eye_center_y)))\n",
    "    else:\n",
    "        y1 = int(round(left_eye_center_y[i]))\n",
    "        \n",
    "   \n",
    "    \n",
    "    \n",
    "    \n",
    "    img_mask = np.zeros((96,96),dtype = int)\n",
    "    img_mask[y1,x1]=1\n",
    "    #img_mask[y2,x2]=1\n",
    "    \n",
    "        \n",
    "   \n",
    "    \n",
    "    Check = df_image[i].split()\n",
    "    img_phase = np.array(Check)\n",
    "    img_phase = np.reshape(img_phase,(96,96))\n",
    "    img_phase = np.int64(img_phase)\n",
    "    \n",
    "    img_phase_train[i,:,:,0] =img_phase \n",
    "    img_mask_train[i,:,:,0]=img_mask"
   ]
  },
  {
   "cell_type": "code",
   "execution_count": 4,
   "metadata": {},
   "outputs": [],
   "source": [
    "from sklearn.model_selection import train_test_split\n",
    "X_train,X_val,Y_train,Y_val = train_test_split(img_phase_train,img_mask_train,test_size=.2)"
   ]
  },
  {
   "cell_type": "code",
   "execution_count": null,
   "metadata": {},
   "outputs": [],
   "source": []
  },
  {
   "cell_type": "code",
   "execution_count": 7,
   "metadata": {},
   "outputs": [
    {
     "name": "stdout",
     "output_type": "stream",
     "text": [
      "Train on 5639 samples, validate on 1410 samples\n",
      "5639/5639 [==============================] - 152s 27ms/sample - loss: 0.3441 - accuracy: 0.9967 - val_loss: 0.0014 - val_accuracy: 0.9999\n"
     ]
    }
   ],
   "source": [
    "inputs = Input((96, 96, 1))\n",
    "conv1 = layers.Conv2D(64, (3, 3), activation='relu', padding='same',kernel_initializer = 'he_normal')(inputs)\n",
    "conv1 = layers.Conv2D(64, (3, 3), activation='relu', padding='same',kernel_initializer = 'he_normal')(conv1)\n",
    "pool1 = layers.MaxPooling2D(pool_size=(2, 2))(conv1)\n",
    "\n",
    "conv2 = layers.Conv2D(128, (3, 3), activation='relu', padding='same',kernel_initializer = 'he_normal')(pool1)\n",
    "conv2 = layers.Conv2D(128, (3, 3), activation='relu', padding='same',kernel_initializer = 'he_normal')(conv2)\n",
    "pool2 = layers.MaxPooling2D(pool_size=(2, 2))(conv2)\n",
    "\n",
    "conv3 = layers.Conv2D(256, (3, 3), activation='relu', padding='same',kernel_initializer = 'he_normal')(pool2)\n",
    "conv3 = layers.Conv2D(256, (3, 3), activation='relu', padding='same',kernel_initializer = 'he_normal')(conv3)\n",
    "pool3 = layers.MaxPooling2D(pool_size=(2, 2))(conv3)\n",
    "\n",
    "conv4 = layers.Conv2D(512, (3, 3), activation='relu', padding='same',kernel_initializer = 'he_normal')(pool3)\n",
    "conv4 = layers.Conv2D(512, (3, 3), activation='relu', padding='same',kernel_initializer = 'he_normal')(conv4)\n",
    "pool4 = layers.MaxPooling2D(pool_size=(2, 2))(conv4)\n",
    "\n",
    "conv5 = layers.Conv2D(1024, (3, 3), activation='relu', padding='same',kernel_initializer = 'he_normal')(pool4)\n",
    "conv5 = layers.Conv2D(1024, (3, 3), activation='relu', padding='same',kernel_initializer = 'he_normal')(conv5)\n",
    "\n",
    "up6 = layers.concatenate([layers.Conv2DTranspose(512, (2, 2), strides=(2, 2), padding='same')(conv5), conv4], axis=3)\n",
    "conv6 = layers.Conv2D(512, (3, 3), activation='relu', padding='same')(up6)\n",
    "conv6 = layers.Conv2D(512, (3, 3), activation='relu', padding='same')(conv6)\n",
    "up7 = layers.concatenate([layers.Conv2DTranspose(256, (2, 2), strides=(2, 2), padding='same')(conv6), conv3], axis=3)\n",
    "conv7 = layers.Conv2D(256, (3, 3), activation='relu', padding='same')(up7)\n",
    "conv7 = layers.Conv2D(256, (3, 3), activation='relu', padding='same')(conv7)\n",
    "\n",
    "up8 = layers.concatenate([layers.Conv2DTranspose(128, (2, 2), strides=(2, 2), padding='same')(conv7), conv2], axis=3)\n",
    "conv8 = layers.Conv2D(128, (3, 3), activation='relu', padding='same')(up8)\n",
    "conv8 = layers.Conv2D(128, (3, 3), activation='relu', padding='same')(conv8)\n",
    "\n",
    "up9 = layers.concatenate([layers.Conv2DTranspose(64, (2, 2), strides=(2, 2), padding='same')(conv8), conv1], axis=3)\n",
    "conv9 = layers.Conv2D(64, (3, 3), activation='relu', padding='same')(up9)\n",
    "conv9 = layers.Conv2D(64, (3, 3), activation='relu', padding='same')(conv9)\n",
    "\n",
    "conv10 = layers.Conv2D(1, (1, 1), activation='sigmoid')(conv9)\n",
    "\n",
    "model = Model(inputs=[inputs], outputs=[conv10])\n",
    "\n",
    "model.compile(optimizer=Adam(lr=1e-4), loss='binary_crossentropy', metrics=['accuracy'])\n",
    "\n",
    "hst = model.fit(X_train,Y_train, epochs =1 , batch_size = 4, validation_data = (X_val,Y_val))"
   ]
  },
  {
   "cell_type": "markdown",
   "metadata": {},
   "source": [
    "model_eye = train_model(X_train,X_val,Y_train,Y_val)"
   ]
  },
  {
   "cell_type": "code",
   "execution_count": 26,
   "metadata": {},
   "outputs": [
    {
     "data": {
      "text/plain": [
       "<matplotlib.image.AxesImage at 0x7fdf0c46ed68>"
      ]
     },
     "execution_count": 26,
     "metadata": {},
     "output_type": "execute_result"
    },
    {
     "data": {
      "image/png": "[encoded data removed]",
      "text/plain": [
       "<Figure size 432x288 with 1 Axes>"
      ]
     },
     "metadata": {},
     "output_type": "display_data"
    }
   ],
   "source": [
    "X_testImg = np.zeros((1,96,96,1))\n",
    "testImg=img_phase_train[7,:,:,0]\n",
    "X_testImg[0,:,:,0] = testImg\n",
    "\n",
    "plt.imshow(X_testImg[0,:,:,0])\n"
   ]
  },
  {
   "cell_type": "code",
   "execution_count": 35,
   "metadata": {},
   "outputs": [],
   "source": [
    "predictions = model.predict(X_testImg)\n"
   ]
  },
  {
   "cell_type": "code",
   "execution_count": 37,
   "metadata": {},
   "outputs": [
    {
     "data": {
      "text/plain": [
       "0.07064224"
      ]
     },
     "execution_count": 37,
     "metadata": {},
     "output_type": "execute_result"
    }
   ],
   "source": [
    "max = np.max(predictions[0,:,:,0])\n",
    "max"
   ]
  },
  {
   "cell_type": "code",
   "execution_count": 38,
   "metadata": {},
   "outputs": [
    {
     "data": {
      "text/plain": [
       "<matplotlib.image.AxesImage at 0x7fdf0c20f630>"
      ]
     },
     "execution_count": 38,
     "metadata": {},
     "output_type": "execute_result"
    },
    {
     "data": {
      "image/png": "[encoded data removed]",
      "text/plain": [
       "<Figure size 432x288 with 1 Axes>"
      ]
     },
     "metadata": {},
     "output_type": "display_data"
    }
   ],
   "source": [
    "plt.imshow(predictions[0,:,:,0]==max)"
   ]
  },
  {
   "cell_type": "code",
   "execution_count": 39,
   "metadata": {},
   "outputs": [
    {
     "name": "stdout",
     "output_type": "stream",
     "text": [
      "40.0\n",
      "69.0\n"
     ]
    }
   ],
   "source": [
    "indices = np.where(predictions[0,:,:,0]==max )\n",
    "print(np.mean(indices[0]))\n",
    "print(np.mean(indices[1]))"
   ]
  },
  {
   "cell_type": "code",
   "execution_count": 41,
   "metadata": {},
   "outputs": [
    {
     "data": {
      "text/plain": [
       "<matplotlib.image.AxesImage at 0x7fdf0c2279b0>"
      ]
     },
     "execution_count": 41,
     "metadata": {},
     "output_type": "execute_result"
    },
    {
     "data": {
      "image/png": "[encoded data removed]",
      "text/plain": [
       "<Figure size 432x288 with 1 Axes>"
      ]
     },
     "metadata": {},
     "output_type": "display_data"
    }
   ],
   "source": [
    "img = img_mask_train[7,:,:,0]\n",
    "plt.imshow(img)"
   ]
  },
  {
   "cell_type": "code",
   "execution_count": 42,
   "metadata": {},
   "outputs": [
    {
     "name": "stdout",
     "output_type": "stream",
     "text": [
      "39.0\n",
      "67.0\n"
     ]
    }
   ],
   "source": [
    "indices = np.where(img )\n",
    "print(np.mean(indices[0]))\n",
    "print(np.mean(indices[1]))"
   ]
  },
  {
   "cell_type": "code",
   "execution_count": null,
   "metadata": {},
   "outputs": [],
   "source": []
  }
 ],
 "metadata": {
  "kernelspec": {
   "display_name": "Environment (conda_tensorflow2_p36)",
   "language": "python",
   "name": "conda_tensorflow2_p36"
  },
  "language_info": {
   "codemirror_mode": {
    "name": "ipython",
    "version": 3
   },
   "file_extension": ".py",
   "mimetype": "text/x-python",
   "name": "python",
   "nbconvert_exporter": "python",
   "pygments_lexer": "ipython3",
   "version": "3.6.6"
  }
 },
 "nbformat": 4,
 "nbformat_minor": 2
}
