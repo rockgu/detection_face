{
 "cells": [
  {
   "cell_type": "code",
   "execution_count": 1,
   "metadata": {},
   "outputs": [],
   "source": [
    "import numpy as np\n",
    "import pandas as pd \n",
    "import matplotlib.pyplot as plt\n",
    "import tensorflow as tf\n",
    "from tensorflow.keras.models import Model\n",
    "from tensorflow.keras import layers\n",
    "from tensorflow.keras import Input\n",
    "from tensorflow.keras.optimizers import Adam\n",
    "import math\n",
    "from sklearn.model_selection import train_test_split"
   ]
  },
  {
   "cell_type": "code",
   "execution_count": 2,
   "metadata": {},
   "outputs": [],
   "source": [
    "data = pd.read_csv(\"/home/ubuntu/detection_face_copy/training.csv\") \n",
    "\n",
    "\n",
    "#data.head()\n",
    "\n",
    "df_image =data['Image']\n",
    "left_eye_center_x = data['left_eye_center_x']\n",
    "left_eye_center_y =data['left_eye_center_y']\n",
    "right_eye_center_x =data['right_eye_center_x']\n",
    "right_eye_center_y= data['right_eye_center_y']\n",
    "left_eye_inner_corner_x =data['left_eye_inner_corner_x']\n",
    "left_eye_inner_corner_y =data['left_eye_inner_corner_y']\n",
    "left_eye_outer_corner_x =data['left_eye_outer_corner_x']\n",
    "left_eye_outer_corner_y =data['left_eye_outer_corner_y']\n",
    "right_eye_inner_corner_x =data['right_eye_inner_corner_x']\n",
    "right_eye_inner_corner_y =data['right_eye_inner_corner_y']\n",
    "right_eye_outer_corner_x =data['right_eye_outer_corner_x']\n",
    "right_eye_outer_corner_y =data['right_eye_outer_corner_y']\n",
    "left_eyebrow_inner_end_x =data['left_eyebrow_inner_end_x']\n",
    "left_eyebrow_inner_end_y =data['left_eyebrow_inner_end_y']\n",
    "left_eyebrow_outer_end_x =data['left_eyebrow_outer_end_x']\n",
    "left_eyebrow_outer_end_y =data['left_eyebrow_outer_end_y']\n",
    "right_eyebrow_inner_end_x =data['right_eyebrow_inner_end_x']\n",
    "right_eyebrow_inner_end_y =data['right_eyebrow_inner_end_y']\n",
    "right_eyebrow_outer_end_x =data['right_eyebrow_outer_end_x']\n",
    "right_eyebrow_outer_end_y =data['right_eyebrow_outer_end_y']\n",
    "nose_tip_x = data['nose_tip_x']\n",
    "nose_tip_y = data['nose_tip_y']\n",
    "mouth_left_corner_x =data['mouth_left_corner_x']\n",
    "mouth_left_corner_y =data['mouth_left_corner_y']\n",
    "mouth_right_corner_x =data['mouth_right_corner_x']\n",
    "mouth_right_corner_y =data['mouth_right_corner_y']\n",
    "mouth_center_top_lip_x =data['mouth_center_top_lip_x']\n",
    "mouth_center_top_lip_y= data['mouth_center_top_lip_y']\n",
    "mouth_center_bottom_lip_x =data['mouth_center_bottom_lip_x']\n",
    "mouth_center_bottom_lip_y =data['mouth_center_bottom_lip_y']"
   ]
  },
  {
   "cell_type": "code",
   "execution_count": 3,
   "metadata": {},
   "outputs": [],
   "source": [
    "test_data = pd.read_csv(\"/home/ubuntu/detection_face_copy/test.csv\") \n",
    "test_imageID = test_data['ImageId']\n",
    "test_image = test_data['Image']"
   ]
  },
  {
   "cell_type": "code",
   "execution_count": 4,
   "metadata": {},
   "outputs": [],
   "source": [
    "def trian_model(X_train,X_val,Y_train,Y_val):\n",
    "    inputs = Input((96, 96, 1))\n",
    "    conv1 = layers.Conv2D(64, (3, 3), activation='relu', padding='same',kernel_initializer = 'he_normal')(inputs)\n",
    "    conv1 = layers.Conv2D(64, (3, 3), activation='relu', padding='same',kernel_initializer = 'he_normal')(conv1)\n",
    "    pool1 = layers.MaxPooling2D(pool_size=(2, 2))(conv1)\n",
    "\n",
    "    conv2 = layers.Conv2D(128, (3, 3), activation='relu', padding='same',kernel_initializer = 'he_normal')(pool1)\n",
    "    conv2 = layers.Conv2D(128, (3, 3), activation='relu', padding='same',kernel_initializer = 'he_normal')(conv2)\n",
    "    pool2 = layers.MaxPooling2D(pool_size=(2, 2))(conv2)\n",
    "\n",
    "    conv3 = layers.Conv2D(256, (3, 3), activation='relu', padding='same',kernel_initializer = 'he_normal')(pool2)\n",
    "    conv3 = layers.Conv2D(256, (3, 3), activation='relu', padding='same',kernel_initializer = 'he_normal')(conv3)\n",
    "    pool3 = layers.MaxPooling2D(pool_size=(2, 2))(conv3)\n",
    "\n",
    "    conv4 = layers.Conv2D(512, (3, 3), activation='relu', padding='same',kernel_initializer = 'he_normal')(pool3)\n",
    "    conv4 = layers.Conv2D(512, (3, 3), activation='relu', padding='same',kernel_initializer = 'he_normal')(conv4)\n",
    "    pool4 = layers.MaxPooling2D(pool_size=(2, 2))(conv4)\n",
    "\n",
    "    conv5 = layers.Conv2D(1024, (3, 3), activation='relu', padding='same',kernel_initializer = 'he_normal')(pool4)\n",
    "    conv5 = layers.Conv2D(1024, (3, 3), activation='relu', padding='same',kernel_initializer = 'he_normal')(conv5)\n",
    "\n",
    "    up6 = layers.concatenate([layers.Conv2DTranspose(512, (2, 2), strides=(2, 2), padding='same')(conv5), conv4], axis=3)\n",
    "    conv6 = layers.Conv2D(512, (3, 3), activation='relu', padding='same')(up6)\n",
    "    conv6 = layers.Conv2D(512, (3, 3), activation='relu', padding='same')(conv6)\n",
    "    up7 = layers.concatenate([layers.Conv2DTranspose(256, (2, 2), strides=(2, 2), padding='same')(conv6), conv3], axis=3)\n",
    "    conv7 = layers.Conv2D(256, (3, 3), activation='relu', padding='same')(up7)\n",
    "    conv7 = layers.Conv2D(256, (3, 3), activation='relu', padding='same')(conv7)\n",
    "\n",
    "    up8 = layers.concatenate([layers.Conv2DTranspose(128, (2, 2), strides=(2, 2), padding='same')(conv7), conv2], axis=3)\n",
    "    conv8 = layers.Conv2D(128, (3, 3), activation='relu', padding='same')(up8)\n",
    "    conv8 = layers.Conv2D(128, (3, 3), activation='relu', padding='same')(conv8)\n",
    "\n",
    "    up9 = layers.concatenate([layers.Conv2DTranspose(64, (2, 2), strides=(2, 2), padding='same')(conv8), conv1], axis=3)\n",
    "    conv9 = layers.Conv2D(64, (3, 3), activation='relu', padding='same')(up9)\n",
    "    conv9 = layers.Conv2D(64, (3, 3), activation='relu', padding='same')(conv9)\n",
    "\n",
    "    conv10 = layers.Conv2D(1, (3, 3), padding='same')(conv9)\n",
    "\n",
    "    flat = layers.Flatten()(conv10)\n",
    "\n",
    "    final = layers.Dense(96*96,activation = 'softmax')(flat)\n",
    "\n",
    "    model = Model(inputs=[inputs], outputs=[final])\n",
    "\n",
    "    model.compile(optimizer=Adam(lr=1e-4), loss='categorical_crossentropy', metrics=['accuracy'])\n",
    "\n",
    "    hst = model.fit(X_train,Y_train, epochs =1 , batch_size = 4, validation_data = (X_val,Y_val))\n",
    "    return model"
   ]
  },
  {
   "cell_type": "code",
   "execution_count": 44,
   "metadata": {},
   "outputs": [],
   "source": [
    "def write_in_dataframe(position,model,test_image):\n",
    "    position_X = position+\"_x\"\n",
    "    position_Y = position+\"_y\"\n",
    "    cols =['imageID',position_X,position_Y]\n",
    "    prediction_df= pd.DataFrame(columns = cols)\n",
    "    size = len(test_image)\n",
    "    for i in range (size):\n",
    "       # print(i)\n",
    "        Check = test_image[i].split()\n",
    "        img_phase = np.array(Check)\n",
    "        img_phase = np.reshape(img_phase,(96,96))\n",
    "        img_phase = np.int64(img_phase)\n",
    "        X_testImg = np.zeros((1,96,96,1))\n",
    "\n",
    "        X_testImg[0,:,:,0] = img_phase\n",
    "        #plt.figure()\n",
    "        #plt.imshow(X_testImg[i,:,:,0])\n",
    "        check = model.predict(X_testImg)\n",
    "        check = np.reshape(check,(96,96))\n",
    "        max = np.max(check)\n",
    "       #plt.imshow(check[:,:]==max) \n",
    "        indices = np.where(check ==max)\n",
    "        ImageID=int(i)\n",
    "        y=np.mean(indices[0])\n",
    "        x=np.mean(indices[1])\n",
    "       # print(str(i)+\",\"+str( x)+\",\"+str(y))\n",
    "        prediction_df = prediction_df.append({'imageID': str(i), position_X:x,position_Y:y},ignore_index=True)\n",
    "        \n",
    "    return prediction_df"
   ]
  },
  {
   "cell_type": "code",
   "execution_count": 22,
   "metadata": {},
   "outputs": [],
   "source": [
    "def get_train_Data(img_mask_train,img_phase_train,x,y):\n",
    "    for i in range (len(data)):\n",
    "\n",
    "\n",
    "\n",
    "        if(math.isnan(x[i])):\n",
    "            x2 = int(round(np.mean(x)))\n",
    "        else:\n",
    "            x2 = int(round(x[i]))\n",
    "\n",
    "        if (math.isnan(y[i])):\n",
    "            y2 = int(round(np.mean(y)))\n",
    "        else:\n",
    "            y2 = int(round(y[i]))\n",
    "\n",
    "\n",
    "      \n",
    "\n",
    "        img_mask = np.zeros((96,96),dtype = int)\n",
    "        if y2==96:\n",
    "            y2 = y2-1\n",
    "            \n",
    "        \n",
    "       # print(\"y \"+str(y2))\n",
    "       # print(\"x \"+str(x2))\n",
    "\n",
    "        img_mask[y2,x2]=1\n",
    "\n",
    "\n",
    "        Check = df_image[i].split()\n",
    "        img_phase = np.array(Check)\n",
    "        img_phase = np.reshape(img_phase,(96,96))\n",
    "        img_phase = np.int64(img_phase)\n",
    "\n",
    "        img_phase_train[i,:,:,0] =img_phase \n",
    "        img_mask_train[i,:]=img_mask.flatten()"
   ]
  },
  {
   "cell_type": "code",
   "execution_count": 7,
   "metadata": {},
   "outputs": [],
   "source": [
    "##\n",
    "#left_eyebrow_inner_end_x"
   ]
  },
  {
   "cell_type": "code",
   "execution_count": 70,
   "metadata": {},
   "outputs": [],
   "source": [
    "img_mask_train = np.zeros((7049,96*96))\n",
    "img_phase_train = np.zeros((7049,96,96,1),dtype = int)\n",
    "get_train_Data(img_mask_train,img_phase_train,mouth_center_bottom_lip_x,mouth_center_bottom_lip_y )"
   ]
  },
  {
   "cell_type": "code",
   "execution_count": 71,
   "metadata": {},
   "outputs": [],
   "source": [
    "X_train,X_val,Y_train,Y_val = train_test_split(img_phase_train,img_mask_train,test_size=.2)"
   ]
  },
  {
   "cell_type": "code",
   "execution_count": 72,
   "metadata": {},
   "outputs": [
    {
     "name": "stdout",
     "output_type": "stream",
     "text": [
      "85.0\n",
      "45.0\n"
     ]
    },
    {
     "data": {
      "image/png": "[encoded data removed]",
      "text/plain": [
       "<Figure size 432x288 with 1 Axes>"
      ]
     },
     "metadata": {},
     "output_type": "display_data"
    }
   ],
   "source": [
    "img = np.reshape(img_mask_train[1,:],(96,96))\n",
    "plt.imshow(img)\n",
    "indices = np.where(img)\n",
    "print(np.mean(indices[0]))\n",
    "print(np.mean(indices[1]))"
   ]
  },
  {
   "cell_type": "code",
   "execution_count": 73,
   "metadata": {},
   "outputs": [
    {
     "name": "stdout",
     "output_type": "stream",
     "text": [
      "Train on 5639 samples, validate on 1410 samples\n",
      "5639/5639 [==============================] - 200s 35ms/sample - loss: 10.4372 - accuracy: 0.0051 - val_loss: 6.9423 - val_accuracy: 0.0099\n"
     ]
    }
   ],
   "source": [
    "model = trian_model(X_train,X_val,Y_train,Y_val)"
   ]
  },
  {
   "cell_type": "code",
   "execution_count": 79,
   "metadata": {
    "scrolled": false
   },
   "outputs": [],
   "source": [
    "position = \"mouth_center_bottom_lip\"\n",
    "prediction=write_in_dataframe(position,model,test_image)"
   ]
  },
  {
   "cell_type": "code",
   "execution_count": 80,
   "metadata": {},
   "outputs": [
    {
     "data": {
      "text/html": [
       "<div>\n",
       "<style scoped>\n",
       "    .dataframe tbody tr th:only-of-type {\n",
       "        vertical-align: middle;\n",
       "    }\n",
       "\n",
       "    .dataframe tbody tr th {\n",
       "        vertical-align: top;\n",
       "    }\n",
       "\n",
       "    .dataframe thead th {\n",
       "        text-align: right;\n",
       "    }\n",
       "</style>\n",
       "<table border=\"1\" class=\"dataframe\">\n",
       "  <thead>\n",
       "    <tr style=\"text-align: right;\">\n",
       "      <th></th>\n",
       "      <th>imageID</th>\n",
       "      <th>mouth_center_bottom_lip_x</th>\n",
       "      <th>mouth_center_bottom_lip_y</th>\n",
       "    </tr>\n",
       "  </thead>\n",
       "  <tbody>\n",
       "    <tr>\n",
       "      <th>0</th>\n",
       "      <td>0</td>\n",
       "      <td>49.0</td>\n",
       "      <td>79.0</td>\n",
       "    </tr>\n",
       "    <tr>\n",
       "      <th>1</th>\n",
       "      <td>1</td>\n",
       "      <td>48.0</td>\n",
       "      <td>80.0</td>\n",
       "    </tr>\n",
       "    <tr>\n",
       "      <th>2</th>\n",
       "      <td>2</td>\n",
       "      <td>50.0</td>\n",
       "      <td>82.0</td>\n",
       "    </tr>\n",
       "    <tr>\n",
       "      <th>3</th>\n",
       "      <td>3</td>\n",
       "      <td>49.0</td>\n",
       "      <td>80.0</td>\n",
       "    </tr>\n",
       "    <tr>\n",
       "      <th>4</th>\n",
       "      <td>4</td>\n",
       "      <td>47.0</td>\n",
       "      <td>80.0</td>\n",
       "    </tr>\n",
       "  </tbody>\n",
       "</table>\n",
       "</div>"
      ],
      "text/plain": [
       "  imageID  mouth_center_bottom_lip_x  mouth_center_bottom_lip_y\n",
       "0       0                       49.0                       79.0\n",
       "1       1                       48.0                       80.0\n",
       "2       2                       50.0                       82.0\n",
       "3       3                       49.0                       80.0\n",
       "4       4                       47.0                       80.0"
      ]
     },
     "execution_count": 80,
     "metadata": {},
     "output_type": "execute_result"
    }
   ],
   "source": [
    "prediction.head()"
   ]
  },
  {
   "cell_type": "code",
   "execution_count": 54,
   "metadata": {},
   "outputs": [],
   "source": []
  },
  {
   "cell_type": "code",
   "execution_count": 81,
   "metadata": {},
   "outputs": [
    {
     "data": {
      "text/plain": [
       "<matplotlib.collections.PathCollection at 0x7f70600b4f60>"
      ]
     },
     "execution_count": 81,
     "metadata": {},
     "output_type": "execute_result"
    },
    {
     "data": {
      "image/png": "[encoded data removed]",
      "text/plain": [
       "<Figure size 432x288 with 1 Axes>"
      ]
     },
     "metadata": {},
     "output_type": "display_data"
    }
   ],
   "source": [
    "\n",
    "Check = test_image[0].split()\n",
    "img_phase = np.array(Check)\n",
    "img_phase = np.reshape(img_phase,(96,96))\n",
    "img_phase = np.int64(img_phase)\n",
    "\n",
    "\n",
    "plt.imshow(img_phase)\n",
    "plt.scatter(x=47, y=80, c='r', s=10)"
   ]
  },
  {
   "cell_type": "code",
   "execution_count": null,
   "metadata": {},
   "outputs": [],
   "source": [
    "##\n",
    "#right_eye_outer_corner"
   ]
  },
  {
   "cell_type": "code",
   "execution_count": 82,
   "metadata": {},
   "outputs": [],
   "source": [
    "prediction.to_csv(position)"
   ]
  },
  {
   "cell_type": "code",
   "execution_count": null,
   "metadata": {},
   "outputs": [],
   "source": []
  },
  {
   "cell_type": "code",
   "execution_count": null,
   "metadata": {},
   "outputs": [],
   "source": []
  },
  {
   "cell_type": "code",
   "execution_count": null,
   "metadata": {},
   "outputs": [],
   "source": []
  },
  {
   "cell_type": "code",
   "execution_count": null,
   "metadata": {},
   "outputs": [],
   "source": []
  },
  {
   "cell_type": "code",
   "execution_count": null,
   "metadata": {},
   "outputs": [],
   "source": [
    "left_eye_center = ['left_eye_center_x', 'left_eye_center_y']\n",
    "right_eye_center = ['right_eye_center_x','right_eye_center_y']\n",
    "left_eye_inner_corner = ['left_eye_inner_corner_x','left_eye_inner_corner_y']\n",
    "\n",
    "\n",
    "list1 = [left_eye_center,right_eye_center]\n",
    "\n",
    "for i in list1:\n",
    "    \n",
    "    size =len(i[1])\n",
    "    position = i[0][0:size-2]\n",
    "    img_mask_train = np.zeros((7049,96*96))\n",
    "    img_phase_train = np.zeros((7049,96,96,1),dtype = int)\n",
    "    get_train_Data(img_mask_train,img_phase_train,data[i[0]],data[i[1]] )\n",
    "    X_train,X_val,Y_train,Y_val = train_test_split(img_phase_train,img_mask_train,test_size=.2)\n",
    "    model = trian_model(X_train,X_val,Y_train,Y_val)\n",
    "    prediction=write_in_dataframe(position,model,test_image)\n",
    "    prediction.to_csv(position)"
   ]
  },
  {
   "cell_type": "code",
   "execution_count": null,
   "metadata": {},
   "outputs": [],
   "source": []
  },
  {
   "cell_type": "code",
   "execution_count": null,
   "metadata": {},
   "outputs": [],
   "source": []
  }
 ],
 "metadata": {
  "kernelspec": {
   "display_name": "Environment (conda_tensorflow2_p36)",
   "language": "python",
   "name": "conda_tensorflow2_p36"
  },
  "language_info": {
   "codemirror_mode": {
    "name": "ipython",
    "version": 3
   },
   "file_extension": ".py",
   "mimetype": "text/x-python",
   "name": "python",
   "nbconvert_exporter": "python",
   "pygments_lexer": "ipython3",
   "version": "3.6.6"
  }
 },
 "nbformat": 4,
 "nbformat_minor": 2
}
